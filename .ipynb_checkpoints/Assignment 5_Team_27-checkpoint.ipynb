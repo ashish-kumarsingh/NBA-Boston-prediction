{
 "cells": [
  {
   "cell_type": "markdown",
   "metadata": {},
   "source": [
    "<div style=\"text-align: right\">INFO 6105 Data Science Eng Methods and Tools, Bayesian Modeling Lab</div>\n",
    "<div style=\"text-align: right\">Team 27, 21 February 2019</div>\n",
    "\n",
    "# Lab: Posterior Predictive Checks on a Model\n",
    "\n",
    "\n",
    "Let's build a Bayesian model for the Boston NBA team and study player rankings based on scores. \n",
    "#### The assumption is: If the score is above 500, the players qualify for the next game.\n"
   ]
  },
  {
   "cell_type": "code",
   "execution_count": 21,
   "metadata": {},
   "outputs": [],
   "source": [
    "%matplotlib inline\n",
    "import numpy as np\n",
    "import pandas as pd\n",
    "import matplotlib.pylab as plt\n",
    "import seaborn as sns\n",
    "sns.set_context('notebook')\n",
    "\n",
    "RANDOM_SEED = 20090425"
   ]
  },
  {
   "cell_type": "markdown",
   "metadata": {},
   "source": [
    "## Player rankings based on FG and AST of Boston NBA team \n",
    "\n",
    "A general goal of many statistical data analysis tasks is to relate the influence of one variable on another. Let's suppose *only* two factors count in a game of baseball: The Field Goals (FG), and the  The number of assists -- passes that lead directly to a made basket -- by a player (AST) of batters, leading to points scored.\n",
    "We observe and collect data of 14 players:\n"
   ]
  },
  {
   "cell_type": "code",
   "execution_count": 22,
   "metadata": {
    "scrolled": true
   },
   "outputs": [
    {
     "data": {
      "text/html": [
       "<div>\n",
       "<style scoped>\n",
       "    .dataframe tbody tr th:only-of-type {\n",
       "        vertical-align: middle;\n",
       "    }\n",
       "\n",
       "    .dataframe tbody tr th {\n",
       "        vertical-align: top;\n",
       "    }\n",
       "\n",
       "    .dataframe thead th {\n",
       "        text-align: right;\n",
       "    }\n",
       "</style>\n",
       "<table border=\"1\" class=\"dataframe\">\n",
       "  <thead>\n",
       "    <tr style=\"text-align: right;\">\n",
       "      <th></th>\n",
       "      <th>FG</th>\n",
       "      <th>AST</th>\n",
       "      <th>PTS</th>\n",
       "    </tr>\n",
       "  </thead>\n",
       "  <tbody>\n",
       "    <tr>\n",
       "      <th>0</th>\n",
       "      <td>379</td>\n",
       "      <td>337</td>\n",
       "      <td>952</td>\n",
       "    </tr>\n",
       "    <tr>\n",
       "      <th>1</th>\n",
       "      <td>213</td>\n",
       "      <td>140</td>\n",
       "      <td>520</td>\n",
       "    </tr>\n",
       "    <tr>\n",
       "      <th>2</th>\n",
       "      <td>359</td>\n",
       "      <td>121</td>\n",
       "      <td>894</td>\n",
       "    </tr>\n",
       "    <tr>\n",
       "      <th>3</th>\n",
       "      <td>3</td>\n",
       "      <td>3</td>\n",
       "      <td>10</td>\n",
       "    </tr>\n",
       "    <tr>\n",
       "      <th>4</th>\n",
       "      <td>95</td>\n",
       "      <td>33</td>\n",
       "      <td>262</td>\n",
       "    </tr>\n",
       "    <tr>\n",
       "      <th>5</th>\n",
       "      <td>682</td>\n",
       "      <td>449</td>\n",
       "      <td>2199</td>\n",
       "    </tr>\n",
       "    <tr>\n",
       "      <th>6</th>\n",
       "      <td>333</td>\n",
       "      <td>155</td>\n",
       "      <td>999</td>\n",
       "    </tr>\n",
       "    <tr>\n",
       "      <th>7</th>\n",
       "      <td>25</td>\n",
       "      <td>4</td>\n",
       "      <td>68</td>\n",
       "    </tr>\n",
       "    <tr>\n",
       "      <th>8</th>\n",
       "      <td>192</td>\n",
       "      <td>64</td>\n",
       "      <td>515</td>\n",
       "    </tr>\n",
       "    <tr>\n",
       "      <th>9</th>\n",
       "      <td>114</td>\n",
       "      <td>71</td>\n",
       "      <td>299</td>\n",
       "    </tr>\n",
       "    <tr>\n",
       "      <th>10</th>\n",
       "      <td>15</td>\n",
       "      <td>7</td>\n",
       "      <td>38</td>\n",
       "    </tr>\n",
       "    <tr>\n",
       "      <th>11</th>\n",
       "      <td>260</td>\n",
       "      <td>148</td>\n",
       "      <td>678</td>\n",
       "    </tr>\n",
       "    <tr>\n",
       "      <th>12</th>\n",
       "      <td>269</td>\n",
       "      <td>364</td>\n",
       "      <td>835</td>\n",
       "    </tr>\n",
       "    <tr>\n",
       "      <th>13</th>\n",
       "      <td>151</td>\n",
       "      <td>131</td>\n",
       "      <td>410</td>\n",
       "    </tr>\n",
       "    <tr>\n",
       "      <th>14</th>\n",
       "      <td>78</td>\n",
       "      <td>42</td>\n",
       "      <td>178</td>\n",
       "    </tr>\n",
       "  </tbody>\n",
       "</table>\n",
       "</div>"
      ],
      "text/plain": [
       "     FG  AST   PTS\n",
       "0   379  337   952\n",
       "1   213  140   520\n",
       "2   359  121   894\n",
       "3     3    3    10\n",
       "4    95   33   262\n",
       "5   682  449  2199\n",
       "6   333  155   999\n",
       "7    25    4    68\n",
       "8   192   64   515\n",
       "9   114   71   299\n",
       "10   15    7    38\n",
       "11  260  148   678\n",
       "12  269  364   835\n",
       "13  151  131   410\n",
       "14   78   42   178"
      ]
     },
     "execution_count": 22,
     "metadata": {},
     "output_type": "execute_result"
    }
   ],
   "source": [
    "game = pd.read_csv(\"C:/Users/Bibu/Documents/Northeastern/Data Science/Lecture Slides/new/NBA_Bos1.csv\",sep=\",\")\n",
    "game"
   ]
  },
  {
   "cell_type": "code",
   "execution_count": 23,
   "metadata": {},
   "outputs": [
    {
     "data": {
      "image/png": "[encoded data removed]",
      "text/plain": [
       "<Figure size 432x288 with 1 Axes>"
      ]
     },
     "metadata": {
      "needs_background": "light"
     },
     "output_type": "display_data"
    }
   ],
   "source": [
    "game.plot(x='FG', y='PTS', style='go', legend=False, xlim=(0,500));"
   ]
  },
  {
   "cell_type": "code",
   "execution_count": 24,
   "metadata": {},
   "outputs": [
    {
     "data": {
      "image/png": "[encoded data removed]",
      "text/plain": [
       "<Figure size 432x288 with 1 Axes>"
      ]
     },
     "metadata": {
      "needs_background": "light"
     },
     "output_type": "display_data"
    }
   ],
   "source": [
    "game.plot(x='AST', y='PTS', style='yo', legend=False, xlim=(0,500));"
   ]
  },
  {
   "cell_type": "markdown",
   "metadata": {},
   "source": [
    "## 1. Linear sum of squares\n",
    "\n",
    "Let's look at the general linear effect of FG and ASTs on the player scores. Let's build a linear predictive model (a line).\n",
    "\n",
    "We would like to select $\\beta_0, \\beta_1$ so that the difference between the predictions and the observations is zero, but this is not usually possible, as with our Vandermonde exercise in our linear algenra introduction notebook. Instead, we choose a reasonable criterion: ***the smallest sum of the squared differences between modelled $\\hat{y}$ and observed $y$***.\n",
    "\n",
    "<div style=\"font-size: 120%;\">  \n",
    "$$R^2 = \\sum_i (y_i - [\\beta_0 + \\beta_1 x_i])^2 = \\sum_i \\epsilon_i^2 $$  \n",
    "</div>\n",
    "\n",
    "Squaring serves two purposes: \n",
    "\n",
    "1. to prevent positive and negative values from cancelling each other out\n",
    "2. to strongly penalize large deviations. \n",
    "\n",
    "Whether or not the latter is a desired depends on the goals of the analysis.\n",
    "\n",
    "In other words, we will select the parameters that minimize the squared error of the model. Let's write the cost function:"
   ]
  },
  {
   "cell_type": "code",
   "execution_count": 25,
   "metadata": {},
   "outputs": [],
   "source": [
    "sum_of_squares = lambda θ, x, y: np.sum((y - θ[0] - θ[1]*x) ** 2)"
   ]
  },
  {
   "cell_type": "markdown",
   "metadata": {},
   "source": [
    "However, we have the stated objective of minimizing the sum of squares, so we can pass this function to one of several optimizers in SciPy:"
   ]
  },
  {
   "cell_type": "code",
   "execution_count": 26,
   "metadata": {},
   "outputs": [
    {
     "data": {
      "text/plain": [
       "(array([379, 213, 359,   3,  95, 682, 333,  25, 192, 114,  15, 260, 269,\n",
       "        151,  78], dtype=int64),\n",
       " array([337, 140, 121,   3,  33, 449, 155,   4,  64,  71,   7, 148, 364,\n",
       "        131,  42], dtype=int64),\n",
       " array([ 952,  520,  894,   10,  262, 2199,  999,   68,  515,  299,   38,\n",
       "         678,  835,  410,  178], dtype=int64))"
      ]
     },
     "execution_count": 26,
     "metadata": {},
     "output_type": "execute_result"
    }
   ],
   "source": [
    "from scipy.optimize import fmin\n",
    "\n",
    "x, z, y= game.T.values\n",
    "x, z, y"
   ]
  },
  {
   "cell_type": "code",
   "execution_count": 27,
   "metadata": {},
   "outputs": [
    {
     "name": "stdout",
     "output_type": "stream",
     "text": [
      "Optimization terminated successfully.\n",
      "         Current function value: 97640.757012\n",
      "         Iterations: 115\n",
      "         Function evaluations: 211\n"
     ]
    },
    {
     "data": {
      "text/plain": [
       "(-57.53052299100044, 3.0681685573854036)"
      ]
     },
     "execution_count": 27,
     "metadata": {},
     "output_type": "execute_result"
    }
   ],
   "source": [
    "a0, a1 = fmin(sum_of_squares, [0,1], args=(x,y))\n",
    "a0, a1"
   ]
  },
  {
   "cell_type": "code",
   "execution_count": 28,
   "metadata": {},
   "outputs": [
    {
     "data": {
      "image/png": "[encoded data removed]",
      "text/plain": [
       "<Figure size 432x288 with 1 Axes>"
      ]
     },
     "metadata": {
      "needs_background": "light"
     },
     "output_type": "display_data"
    }
   ],
   "source": [
    "# goals in blue\n",
    "ax = game.plot(x='FG', y='PTS', style='bo', legend=False, xlim=(0,500), ylim=(0, 2500))\n",
    "ax.plot([0,2000], [a0, a0+a1*1950])\n",
    "for xi, yi in zip(x,y):\n",
    "    ax.plot([xi]*2, [yi, a0+a1*xi], 'k:')"
   ]
  },
  {
   "cell_type": "markdown",
   "metadata": {},
   "source": [
    "And now for the offense:"
   ]
  },
  {
   "cell_type": "code",
   "execution_count": 29,
   "metadata": {},
   "outputs": [
    {
     "name": "stdout",
     "output_type": "stream",
     "text": [
      "Optimization terminated successfully.\n",
      "         Current function value: 1035611.517881\n",
      "         Iterations: 102\n",
      "         Function evaluations: 198\n"
     ]
    },
    {
     "data": {
      "text/plain": [
       "(107.53641600261919, 3.501186126413655)"
      ]
     },
     "execution_count": 29,
     "metadata": {},
     "output_type": "execute_result"
    }
   ],
   "source": [
    "b0, b1 = fmin(sum_of_squares, [0,1], args=(z,y))\n",
    "b0, b1"
   ]
  },
  {
   "cell_type": "code",
   "execution_count": 30,
   "metadata": {},
   "outputs": [
    {
     "data": {
      "image/png": "[encoded data removed]",
      "text/plain": [
       "<Figure size 432x288 with 1 Axes>"
      ]
     },
     "metadata": {
      "needs_background": "light"
     },
     "output_type": "display_data"
    }
   ],
   "source": [
    "#assists in red\n",
    "ax = game.plot(x='AST', y='PTS', style='ro', legend=False, xlim=(0,500), ylim=(0, 2500))\n",
    "ax.plot([0,2000], [b0, b0+b1*1950])\n",
    "for zi, yi in zip(z,y):\n",
    "    ax.plot([zi]*2, [yi, b0+b1*zi], 'k:')"
   ]
  },
  {
   "cell_type": "markdown",
   "metadata": {},
   "source": [
    "## 2. Bayesian Linear Regression with PyMC3\n",
    "\n",
    "Let's trun to a Bayesian approach and build a regression model in PyMC3 for the games we just recorded."
   ]
  },
  {
   "cell_type": "markdown",
   "metadata": {},
   "source": [
    "### Likelihood\n",
    "\n",
    "We'll pick a **normal** distribution of Points as our model, with a **mean** and **standard deviation** as parameters:\n",
    "\n",
    "$$y_i \\sim \\text{Normal}(\\mu_i, \\sigma)$$\n",
    "\n",
    "Here, $\\mu_i$ is the expected value of the *i*th observation, which is generated by the regression model at the corresponding value of $x$. We calculate this expected value as a function of the regression parameters and the data.\n",
    "\n",
    "We know that a Points outcome is most often modelled as a **Poisson distribution**, but here we'll use a Normal distribution instead. It may very well not work, the probabilistic computation may fail, your laptop may go up in smoke, but it;s the simplest possible thing we can do..\n",
    "\n",
    "We score *observed* team strength with a single scalar value: ***Points***. However, the important parameters that will help the coach devise a winning strategy are *latent* (hidden). \n",
    "\n",
    "Let's assume one latent parameter $\\theta$ as the following linear combination of:\n",
    "- a constant (the bias)\n",
    "- the FG of players\n",
    "- the AST of players\n",
    "\n",
    "So we write:\n",
    "\n",
    "$$log(\\theta) = \\text{intercept} + \\text{slope1} * \\text{FG} + \\text{slope2} * \\text{AST}$$\n",
    "\n",
    "We'll incorporate that latent parameter as the mean of the normal distribution model for ***Points***.\n",
    "\n",
    "Let me stress: It should be a Poisson distribution instead (more appropriate for counts). But i'm using a Normal distribution, to simplify."
   ]
  },
  {
   "cell_type": "markdown",
   "metadata": {},
   "source": [
    "### Priors\n",
    "The first step in specifying our model is to specify priors for our model.\n",
    "\n",
    "Recall we use a linear model for μ, with an `intercept` (bias) factor and two linear factors `slope1` and `slope2` to represent ERA and RBI:\n",
    "\n",
    "$$μ = \\text{intercept} + \\text{slope1}*x + \\text{slope2}*z$$\n",
    "    \n",
    "We are going to model these factors as normal distributions with a *wide* support: \n",
    "\n",
    "$$\\sim \\text{Normal}(0, 100)$$\n",
    "\n",
    "and finally the standard deviation of our modelled ***Points*** will be a **half Cauchy**:\n",
    "\n",
    "$$\\sigma \\sim \\text{HalfCauchy}(1)$$\n",
    "\n",
    "The half-Cauchy distribution (half of a [Cauchy](https://en.wikipedia.org/wiki/Cauchy_distribution)) has support over positive continuous values, and relatively large tail probabilities, allowing for the possibility of extreme values. It is a very often used modeling pdf.\n",
    "\n",
    "Since we want to track `slope1` and `slope2`, we need to add them as deterministic variables of our model: `pm.Deterministic`.\n",
    "\n",
    "Ok, let's get cooking. We use `Deterministic` to track computed quantities inside the model. It is of no real use in the cell below, becayse if we don't specify `FG` and `AST`, slope1 and slope2 wouild be tracked anyway."
   ]
  },
  {
   "cell_type": "code",
   "execution_count": 31,
   "metadata": {},
   "outputs": [],
   "source": [
    "from pymc3 import Normal, HalfCauchy, Deterministic, Model\n",
    "\n",
    "with Model() as game_model:\n",
    "    \n",
    "    intercept = Normal('intercept', 0, sd=100)\n",
    "    slope1 = Normal('slope1', 0, sd=100)\n",
    "    slope2 = Normal('slope2', 0, sd=100)\n",
    "    FG = Deterministic('FG', slope1)\n",
    "    AST = Deterministic('AST', slope2)\n",
    "    σ = HalfCauchy('σ', 1)"
   ]
  },
  {
   "cell_type": "markdown",
   "metadata": {},
   "source": [
    "But here we want to track `μ`, so we set it equal to **deterministic** variable mu_d. What's the shape of mu_d?"
   ]
  },
  {
   "cell_type": "code",
   "execution_count": 32,
   "metadata": {},
   "outputs": [],
   "source": [
    "with game_model:\n",
    "    \n",
    "    μ = intercept + slope1*x + slope2*z\n",
    "    mu_d = Deterministic('mu_d', μ)\n",
    "    score = Normal('score', mu=μ, sd=σ, observed=y)"
   ]
  },
  {
   "cell_type": "markdown",
   "metadata": {},
   "source": [
    "All right! Now your regression model is fully specified and you are ready to track your posteriors.\n",
    "\n",
    "You can now use the fitting method of your choice to estimate a posterior distribution. Let's use a **Markov chain Monte Carlo** algorithm, called **NUTS** (the No U-Turn Sampler)."
   ]
  },
  {
   "cell_type": "code",
   "execution_count": 33,
   "metadata": {},
   "outputs": [
    {
     "name": "stderr",
     "output_type": "stream",
     "text": [
      "Auto-assigning NUTS sampler...\n",
      "Initializing NUTS using jitter+adapt_diag...\n",
      "Multiprocess sampling (2 chains in 2 jobs)\n",
      "NUTS: [σ, slope2, slope1, intercept]\n",
      "Sampling 2 chains: 100%|██████████| 5000/5000 [00:08<00:00, 568.24draws/s]\n",
      "The acceptance probability does not match the target. It is 0.9208930143729327, but should be close to 0.8. Try to increase the number of tuning steps.\n",
      "The acceptance probability does not match the target. It is 0.9089843302040785, but should be close to 0.8. Try to increase the number of tuning steps.\n"
     ]
    }
   ],
   "source": [
    "from pymc3 import sample\n",
    "\n",
    "with game_model:\n",
    "\n",
    "    game_sample = sample(2000, random_seed=RANDOM_SEED)"
   ]
  },
  {
   "cell_type": "markdown",
   "metadata": {},
   "source": [
    "Ok.. to be expected.. pymc3 tells us the results are not very good..\n",
    "\n",
    "Let's plot posteriors anyway:"
   ]
  },
  {
   "cell_type": "code",
   "execution_count": 34,
   "metadata": {},
   "outputs": [
    {
     "data": {
      "image/png": "[encoded data removed]",
      "text/plain": [
       "<Figure size 864x1800 with 20 Axes>"
      ]
     },
     "metadata": {
      "needs_background": "light"
     },
     "output_type": "display_data"
    }
   ],
   "source": [
    "from pymc3 import plot_posterior\n",
    "\n",
    "plot_posterior(game_sample[500:], varnames=['intercept', 'FG', 'AST', 'σ', 'mu_d']);"
   ]
  },
  {
   "cell_type": "markdown",
   "metadata": {},
   "source": [
    "We have 14 `mu_d`s above, one per game.\n",
    "\n",
    "# Checking model fit\n",
    "\n",
    "One intuitive way of evaluating model fit is to compare model predictions with the observations used to fit the model. In other words, the fitted model can be used to **simulate\n",
    "data**, and the distribution of the simulated data should resemble the distribution of the actual data.\n",
    "\n",
    "Sampling from the **posterior predictive distribution** is straighforward in PyMC3. The `sample_ppc` function draws posterior predictive checks from all of the data likelihoods. "
   ]
  },
  {
   "cell_type": "code",
   "execution_count": 36,
   "metadata": {},
   "outputs": [
    {
     "name": "stderr",
     "output_type": "stream",
     "text": [
      "C:\\Users\\Bibu\\Anaconda3\\lib\\site-packages\\ipykernel_launcher.py:5: DeprecationWarning: sample_ppc() is deprecated.  Please use sample_posterior_predictive()\n",
      "  \"\"\"\n",
      "100%|██████████| 1000/1000 [00:00<00:00, 1735.21it/s]\n"
     ]
    }
   ],
   "source": [
    "from pymc3 import sample_ppc\n",
    "\n",
    "with game_model:\n",
    "    \n",
    "    game_ppc = sample_ppc(game_sample, 1000)"
   ]
  },
  {
   "cell_type": "markdown",
   "metadata": {},
   "source": [
    "This yields 1000 simulated games corresponding to each of the ten data points in our observation vector."
   ]
  },
  {
   "cell_type": "code",
   "execution_count": 37,
   "metadata": {},
   "outputs": [
    {
     "data": {
      "text/plain": [
       "(1000, 15)"
      ]
     },
     "execution_count": 37,
     "metadata": {},
     "output_type": "execute_result"
    }
   ],
   "source": [
    "game_ppc['score'].shape"
   ]
  },
  {
   "cell_type": "markdown",
   "metadata": {},
   "source": [
    "We can then compare these simulated data to the data we used to fit the model. \n",
    "\n",
    "The model should prove that ***it*** could have been used to generate the game data that we observed.\n",
    "\n",
    "We plot 14 histograms `hist`, one for each of the 1,000 simulations per game. Since each simulation yields different points per game, it makes sense that all these simulations put together yeild a histogram. We know see if the mean points per game for all 1,000 simulations matches the real score of each game, represented by a red line. "
   ]
  },
  {
   "cell_type": "code",
   "execution_count": 38,
   "metadata": {},
   "outputs": [
    {
     "data": {
      "image/png": "[encoded data removed]",
      "text/plain": [
       "<Figure size 432x288 with 10 Axes>"
      ]
     },
     "metadata": {
      "needs_background": "light"
     },
     "output_type": "display_data"
    }
   ],
   "source": [
    "fig, axes = plt.subplots(5, 2)\n",
    "axes_flat = axes.flatten()\n",
    "\n",
    "for ax, real_data, sim_data in zip(axes_flat[:], y, game_ppc['score'].T):\n",
    "    ax.hist(sim_data, bins=20)\n",
    "    ax.vlines(real_data, *ax.get_ylim(), colors='red')\n",
    "    ax.set_yticklabels([])\n",
    "    sns.despine(left=True)\n",
    "\n",
    "#axes_flat[-1].axis('off')\n",
    "plt.tight_layout()"
   ]
  },
  {
   "cell_type": "markdown",
   "metadata": {},
   "source": [
    "Ok, that looks pretty good.\n",
    "\n",
    "Let's explore:"
   ]
  },
  {
   "cell_type": "code",
   "execution_count": 39,
   "metadata": {},
   "outputs": [
    {
     "data": {
      "text/plain": [
       "array([1104.43675521,  510.75601505,  906.22521722,  -72.69011079,\n",
       "        315.57522599, 1502.01624433,  847.07600681,  -46.18372271,\n",
       "        439.29109031,  325.96867459,  297.55078071,  622.356686  ,\n",
       "        610.21855033,  574.86352536,  298.50026994])"
      ]
     },
     "execution_count": 39,
     "metadata": {},
     "output_type": "execute_result"
    }
   ],
   "source": [
    "game_ppc['score'][0]\n"
   ]
  },
  {
   "cell_type": "code",
   "execution_count": 40,
   "metadata": {},
   "outputs": [
    {
     "data": {
      "text/plain": [
       "4000"
      ]
     },
     "execution_count": 40,
     "metadata": {},
     "output_type": "execute_result"
    }
   ],
   "source": [
    "len(game_sample['σ'])"
   ]
  },
  {
   "cell_type": "markdown",
   "metadata": {},
   "source": [
    "4000 points because 4 chains of 1000 points each. If you only have 2 processors on your laptop, you should have half that many points.\n",
    "\n",
    "The [highest posterior density interval](highest posterior density interval) (HDI) is the shortest interval on a posterior density for some given confidence level. HDI has the nice property that any point **within** the interval has a higher density than any other point outside. Thus, the HPD interval is **the** collection of most likely values of a parameter.\n",
    "\n",
    "What is the interval for the likely values for the ASTs?"
   ]
  },
  {
   "cell_type": "code",
   "execution_count": 41,
   "metadata": {},
   "outputs": [
    {
     "data": {
      "text/plain": [
       "array([-0.41837228,  0.95628876])"
      ]
     },
     "execution_count": 41,
     "metadata": {},
     "output_type": "execute_result"
    }
   ],
   "source": [
    "import pymc3 as pm\n",
    "pm.stats.hpd(game_sample['AST'])"
   ]
  },
  {
   "cell_type": "markdown",
   "metadata": {},
   "source": [
    "What is the interval for the likely values for the FGs?"
   ]
  },
  {
   "cell_type": "code",
   "execution_count": 42,
   "metadata": {},
   "outputs": [
    {
     "data": {
      "text/plain": [
       "array([2.33818483, 3.41748676])"
      ]
     },
     "execution_count": 42,
     "metadata": {},
     "output_type": "execute_result"
    }
   ],
   "source": [
    "pm.stats.hpd(game_sample['FG'])"
   ]
  },
  {
   "cell_type": "markdown",
   "metadata": {},
   "source": [
    "Quantiles are sets of values of a variate that divide a frequency distribution into equal groups, each containing the same fraction of the total population. The Median for example separates the two halves of a group. So players below the median AST *suck*, and those above it are *ok* :-)"
   ]
  },
  {
   "cell_type": "code",
   "execution_count": 43,
   "metadata": {},
   "outputs": [
    {
     "data": {
      "text/plain": [
       "{2.5: -0.46763021258299714,\n",
       " 25: 0.002195546756754773,\n",
       " 50: 0.2177586940575388,\n",
       " 75: 0.44916012339692785,\n",
       " 97.5: 0.9185491836408837}"
      ]
     },
     "execution_count": 43,
     "metadata": {},
     "output_type": "execute_result"
    }
   ],
   "source": [
    "pm.stats.quantiles(game_sample['AST'])"
   ]
  },
  {
   "cell_type": "code",
   "execution_count": 44,
   "metadata": {},
   "outputs": [
    {
     "data": {
      "text/plain": [
       "{2.5: 2.3352435236790505,\n",
       " 25: 2.7186150636606077,\n",
       " 50: 2.9028472598095285,\n",
       " 75: 3.0729331739534707,\n",
       " 97.5: 3.4168303583470476}"
      ]
     },
     "execution_count": 44,
     "metadata": {},
     "output_type": "execute_result"
    }
   ],
   "source": [
    "pm.stats.quantiles(game_sample['FG'])"
   ]
  },
  {
   "cell_type": "markdown",
   "metadata": {},
   "source": [
    "Now let's collect our simulated latent parameters from the simulation, and build our theoretical model (which was verified to be \"ok\") with these parameters. The parameters now drive the score, which is what we want.\n",
    "\n",
    "Since the score is a normal distribution, we enter its mean and its standard deviation as modelled:"
   ]
  },
  {
   "cell_type": "code",
   "execution_count": 45,
   "metadata": {},
   "outputs": [],
   "source": [
    "ASTs = game_sample['AST']\n",
    "FGs = game_sample['FG']\n",
    "intercepts = game_sample['intercept']\n",
    "sig = game_sample['σ']\n",
    "# assuming x = z = 1\n",
    "score_samples = Normal.dist(intercepts + FGs + ASTs, sig).random()"
   ]
  },
  {
   "cell_type": "code",
   "execution_count": 46,
   "metadata": {},
   "outputs": [
    {
     "data": {
      "text/plain": [
       "4000"
      ]
     },
     "execution_count": 46,
     "metadata": {},
     "output_type": "execute_result"
    }
   ],
   "source": [
    "len(score_samples)"
   ]
  },
  {
   "cell_type": "markdown",
   "metadata": {},
   "source": [
    "The mean of the ASTs for the simulation is:"
   ]
  },
  {
   "cell_type": "code",
   "execution_count": 47,
   "metadata": {},
   "outputs": [
    {
     "data": {
      "text/plain": [
       "0.22594153161984082"
      ]
     },
     "execution_count": 47,
     "metadata": {},
     "output_type": "execute_result"
    }
   ],
   "source": [
    "ASTs.mean()"
   ]
  },
  {
   "cell_type": "markdown",
   "metadata": {},
   "source": [
    "The mean probability that the team that played the 10 observed games actually wins is above 75%. Pretty good!"
   ]
  },
  {
   "cell_type": "code",
   "execution_count": 48,
   "metadata": {},
   "outputs": [
    {
     "data": {
      "text/plain": [
       "0.30625"
      ]
     },
     "execution_count": 48,
     "metadata": {},
     "output_type": "execute_result"
    }
   ],
   "source": [
    "(score_samples > 0.2).mean()"
   ]
  },
  {
   "cell_type": "markdown",
   "metadata": {},
   "source": [
    "Now let's pretend we're a coach and let's do some game analytics.\n",
    "\n",
    "<img src=\"http://www.knowitalljoe.com/wp-content/uploads/2016/01/Star-Wars-Calvin-and-Hobbes-Mashup-1.jpg\" width=300>\n",
    "\n",
    "What happens if we increase the ASTs by 30% (better pitchers)?"
   ]
  },
  {
   "cell_type": "code",
   "execution_count": 50,
   "metadata": {},
   "outputs": [
    {
     "data": {
      "text/plain": [
       "0.29372399110579306"
      ]
     },
     "execution_count": 50,
     "metadata": {},
     "output_type": "execute_result"
    }
   ],
   "source": [
    "z_score = 1 + 0.3\n",
    "higher_asts = ASTs * z_score\n",
    "higher_asts.mean()"
   ]
  },
  {
   "cell_type": "markdown",
   "metadata": {},
   "source": [
    "Let's evaluate the new scores based on our model:"
   ]
  },
  {
   "cell_type": "code",
   "execution_count": 51,
   "metadata": {},
   "outputs": [],
   "source": [
    "new_score_samples = Normal.dist(intercepts + FGs + higher_asts, sig).random()"
   ]
  },
  {
   "cell_type": "markdown",
   "metadata": {},
   "source": [
    "And what's the probability of qualifying for next game *now*?"
   ]
  },
  {
   "cell_type": "code",
   "execution_count": 52,
   "metadata": {},
   "outputs": [
    {
     "data": {
      "text/plain": [
       "0.30875"
      ]
     },
     "execution_count": 52,
     "metadata": {},
     "output_type": "execute_result"
    }
   ],
   "source": [
    "(new_score_samples > 0.2).mean()"
   ]
  },
  {
   "cell_type": "markdown",
   "metadata": {},
   "source": [
    "What happens if we **increase** the FG by 30%?"
   ]
  },
  {
   "cell_type": "code",
   "execution_count": 53,
   "metadata": {},
   "outputs": [
    {
     "data": {
      "text/plain": [
       "3.763283531655314"
      ]
     },
     "execution_count": 53,
     "metadata": {},
     "output_type": "execute_result"
    }
   ],
   "source": [
    "x_score = 1 + 0.3\n",
    "higher_fgs = FGs * x_score\n",
    "higher_fgs.mean()"
   ]
  },
  {
   "cell_type": "markdown",
   "metadata": {},
   "source": [
    "Let's evaluate the new scores based on our model:"
   ]
  },
  {
   "cell_type": "code",
   "execution_count": 54,
   "metadata": {},
   "outputs": [],
   "source": [
    "new2_score_samples = Normal.dist(intercepts + higher_fgs + ASTs, sig).random()"
   ]
  },
  {
   "cell_type": "markdown",
   "metadata": {},
   "source": [
    "And what's the probability of qualifying for the next game *now*?"
   ]
  },
  {
   "cell_type": "code",
   "execution_count": 55,
   "metadata": {},
   "outputs": [
    {
     "data": {
      "text/plain": [
       "0.30525"
      ]
     },
     "execution_count": 55,
     "metadata": {},
     "output_type": "execute_result"
    }
   ],
   "source": [
    "(new2_score_samples > 0.2).mean()"
   ]
  },
  {
   "cell_type": "markdown",
   "metadata": {},
   "source": [
    "This shows that , the probability of qualifying for the next game has increased when we increase FG by 30%\n"
   ]
  },
  {
   "cell_type": "code",
   "execution_count": 56,
   "metadata": {},
   "outputs": [
    {
     "data": {
      "text/html": [
       "<div>\n",
       "<style scoped>\n",
       "    .dataframe tbody tr th:only-of-type {\n",
       "        vertical-align: middle;\n",
       "    }\n",
       "\n",
       "    .dataframe tbody tr th {\n",
       "        vertical-align: top;\n",
       "    }\n",
       "\n",
       "    .dataframe thead th {\n",
       "        text-align: right;\n",
       "    }\n",
       "</style>\n",
       "<table border=\"1\" class=\"dataframe\">\n",
       "  <thead>\n",
       "    <tr style=\"text-align: right;\">\n",
       "      <th></th>\n",
       "      <th>FG</th>\n",
       "      <th>AST</th>\n",
       "      <th>Points</th>\n",
       "    </tr>\n",
       "  </thead>\n",
       "  <tbody>\n",
       "    <tr>\n",
       "      <th>0</th>\n",
       "      <td>3.356281</td>\n",
       "      <td>-0.376498</td>\n",
       "      <td>-17.053381</td>\n",
       "    </tr>\n",
       "    <tr>\n",
       "      <th>1</th>\n",
       "      <td>3.159128</td>\n",
       "      <td>-0.052048</td>\n",
       "      <td>120.861647</td>\n",
       "    </tr>\n",
       "    <tr>\n",
       "      <th>2</th>\n",
       "      <td>3.130546</td>\n",
       "      <td>0.022387</td>\n",
       "      <td>-147.750727</td>\n",
       "    </tr>\n",
       "    <tr>\n",
       "      <th>3</th>\n",
       "      <td>3.131688</td>\n",
       "      <td>0.044946</td>\n",
       "      <td>-105.234748</td>\n",
       "    </tr>\n",
       "    <tr>\n",
       "      <th>4</th>\n",
       "      <td>3.053670</td>\n",
       "      <td>0.128139</td>\n",
       "      <td>-112.590456</td>\n",
       "    </tr>\n",
       "    <tr>\n",
       "      <th>5</th>\n",
       "      <td>2.991358</td>\n",
       "      <td>0.266168</td>\n",
       "      <td>-78.982966</td>\n",
       "    </tr>\n",
       "    <tr>\n",
       "      <th>6</th>\n",
       "      <td>2.997512</td>\n",
       "      <td>0.027659</td>\n",
       "      <td>-40.360096</td>\n",
       "    </tr>\n",
       "    <tr>\n",
       "      <th>7</th>\n",
       "      <td>2.839839</td>\n",
       "      <td>0.137872</td>\n",
       "      <td>-19.052410</td>\n",
       "    </tr>\n",
       "    <tr>\n",
       "      <th>8</th>\n",
       "      <td>3.319696</td>\n",
       "      <td>-0.308593</td>\n",
       "      <td>-91.204993</td>\n",
       "    </tr>\n",
       "    <tr>\n",
       "      <th>9</th>\n",
       "      <td>2.980707</td>\n",
       "      <td>-0.002770</td>\n",
       "      <td>35.281936</td>\n",
       "    </tr>\n",
       "  </tbody>\n",
       "</table>\n",
       "</div>"
      ],
      "text/plain": [
       "         FG       AST      Points\n",
       "0  3.356281 -0.376498  -17.053381\n",
       "1  3.159128 -0.052048  120.861647\n",
       "2  3.130546  0.022387 -147.750727\n",
       "3  3.131688  0.044946 -105.234748\n",
       "4  3.053670  0.128139 -112.590456\n",
       "5  2.991358  0.266168  -78.982966\n",
       "6  2.997512  0.027659  -40.360096\n",
       "7  2.839839  0.137872  -19.052410\n",
       "8  3.319696 -0.308593  -91.204993\n",
       "9  2.980707 -0.002770   35.281936"
      ]
     },
     "execution_count": 56,
     "metadata": {},
     "output_type": "execute_result"
    }
   ],
   "source": [
    "d = {'FG': FGs[3990:],'AST': ASTs[3990:],'Points':score_samples[3990:]}\n",
    "pd.DataFrame(d)"
   ]
  },
  {
   "cell_type": "code",
   "execution_count": null,
   "metadata": {},
   "outputs": [],
   "source": []
  }
 ],
 "metadata": {
  "kernelspec": {
   "display_name": "Python 3",
   "language": "python",
   "name": "python3"
  },
  "language_info": {
   "codemirror_mode": {
    "name": "ipython",
    "version": 3
   },
   "file_extension": ".py",
   "mimetype": "text/x-python",
   "name": "python",
   "nbconvert_exporter": "python",
   "pygments_lexer": "ipython3",
   "version": "3.6.7"
  }
 },
 "nbformat": 4,
 "nbformat_minor": 2
}
